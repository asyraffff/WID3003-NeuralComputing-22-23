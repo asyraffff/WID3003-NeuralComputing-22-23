{
  "nbformat": 4,
  "nbformat_minor": 0,
  "metadata": {
    "kernelspec": {
      "display_name": "Python 3",
      "language": "python",
      "name": "python3"
    },
    "language_info": {
      "codemirror_mode": {
        "name": "ipython",
        "version": 3
      },
      "file_extension": ".py",
      "mimetype": "text/x-python",
      "name": "python",
      "nbconvert_exporter": "python",
      "pygments_lexer": "ipython3",
      "version": "3.6.7"
    },
    "colab": {
      "provenance": []
    }
  },
  "cells": [
    {
      "cell_type": "markdown",
      "metadata": {
        "id": "CxSI21ZRl5op"
      },
      "source": [
        "#Defining class `Var`"
      ]
    },
    {
      "cell_type": "code",
      "metadata": {
        "deletable": false,
        "nbgrader": {
          "checksum": "2644b153f82b6e872e63cb5ead2d529f",
          "grade": false,
          "grade_id": "cell-b23d219550cd2934",
          "locked": false,
          "schema_version": 1,
          "solution": true
        },
        "id": "zH2ZLmPllCWo"
      },
      "source": [
        "import math\n",
        "\n",
        "class Var:\n",
        "    def __init__(self, value):\n",
        "        self.value = value\n",
        "        self.children = []\n",
        "        self.grad_value = None  #Initialize to None, which means it's not yet evaluated\n",
        "\n",
        "    def grad(self):\n",
        "        #recurse only if the value is not yet cached\n",
        "        if self.grad_value is None:\n",
        "            #calculate derivative using chain rule\n",
        "            self.grad_value = sum(weight * var.grad()\n",
        "                                  for weight, var in self.children)\n",
        "        return self.grad_value\n",
        "    \n",
        "    def __str__(self):\n",
        "        return str(self.value)\n",
        "\n",
        "    def __mul__(self, other): # z=x*y    dz/dx=y  dz/dy=x\n",
        "        z = Var(self.value * other.value)\n",
        "        self.children.append((other.value, z)) #x.children.append((y.value,z))  x.child =[dz/dx=y, z] <--assign children z to x\n",
        "        other.children.append((self.value, z))  #y.children.append((x.value,z)) y.child =[dz/dy=x,z] <-- assign children z to y\n",
        "        return z\n",
        "\n",
        "    def __add__(self, other): #z=x+y, dz/dx=1, dz/dy=1\n",
        "        z=Var(self.value+other.value)\n",
        "        self.children.append((1.0,z)) #x.child =[dz/dx=1, z]\n",
        "        other.children.append((1.0,z)) #y.child =[dz/dy=1, z]\n",
        "        return z\n",
        "\n",
        "\n",
        "\n",
        "def sin(x):\n",
        "    z = Var(math.sin(x.value))\n",
        "    x.children.append((math.cos(x.value), z))\n",
        "    return z\n",
        "\n",
        "\n"
      ],
      "execution_count": null,
      "outputs": []
    },
    {
      "cell_type": "code",
      "metadata": {
        "deletable": false,
        "editable": false,
        "nbgrader": {
          "checksum": "afce3f80a9f8278e0ea2815a23a09c95",
          "grade": true,
          "grade_id": "cell-d2124fb6ca76110f",
          "locked": true,
          "points": 2,
          "schema_version": 1,
          "solution": false
        },
        "id": "BhPi9cNFlCWr",
        "colab": {
          "base_uri": "https://localhost:8080/",
          "height": 183
        },
        "outputId": "177c54f2-8ef7-4086-88f0-8e05acbed8a5"
      },
      "source": [
        "# Tests\n",
        "Var(1) + Var(1) / Var(1) - Var(1)**Var(1)\n"
      ],
      "execution_count": null,
      "outputs": [
        {
          "output_type": "error",
          "ename": "TypeError",
          "evalue": "ignored",
          "traceback": [
            "\u001b[0;31m---------------------------------------------------------------------------\u001b[0m",
            "\u001b[0;31mTypeError\u001b[0m                                 Traceback (most recent call last)",
            "\u001b[0;32m<ipython-input-3-46cee568f2f6>\u001b[0m in \u001b[0;36m<module>\u001b[0;34m()\u001b[0m\n\u001b[1;32m      1\u001b[0m \u001b[0;31m# Tests\u001b[0m\u001b[0;34m\u001b[0m\u001b[0;34m\u001b[0m\u001b[0;34m\u001b[0m\u001b[0m\n\u001b[0;32m----> 2\u001b[0;31m \u001b[0mVar\u001b[0m\u001b[0;34m(\u001b[0m\u001b[0;36m1\u001b[0m\u001b[0;34m)\u001b[0m \u001b[0;34m+\u001b[0m \u001b[0mVar\u001b[0m\u001b[0;34m(\u001b[0m\u001b[0;36m1\u001b[0m\u001b[0;34m)\u001b[0m \u001b[0;34m/\u001b[0m \u001b[0mVar\u001b[0m\u001b[0;34m(\u001b[0m\u001b[0;36m1\u001b[0m\u001b[0;34m)\u001b[0m \u001b[0;34m-\u001b[0m \u001b[0mVar\u001b[0m\u001b[0;34m(\u001b[0m\u001b[0;36m1\u001b[0m\u001b[0;34m)\u001b[0m\u001b[0;34m**\u001b[0m\u001b[0mVar\u001b[0m\u001b[0;34m(\u001b[0m\u001b[0;36m1\u001b[0m\u001b[0;34m)\u001b[0m\u001b[0;34m\u001b[0m\u001b[0;34m\u001b[0m\u001b[0m\n\u001b[0m",
            "\u001b[0;31mTypeError\u001b[0m: unsupported operand type(s) for /: 'Var' and 'Var'"
          ]
        }
      ]
    },
    {
      "cell_type": "markdown",
      "metadata": {
        "id": "n3i5BkOhzsaL"
      },
      "source": [
        "#Forward mode computation"
      ]
    },
    {
      "cell_type": "code",
      "metadata": {
        "colab": {
          "base_uri": "https://localhost:8080/"
        },
        "id": "hdXhztrEhK6Q",
        "outputId": "42be7fe5-5764-43e2-d7ed-072406cdc4e7"
      },
      "source": [
        "\n",
        "\n",
        "x=Var(0.5)\n",
        "y=Var(4.2)\n",
        "a=x*y\n",
        "b=sin(x)\n",
        "z=a+b\n",
        "\n",
        "def printGradValue():  \n",
        "    print(f'x= {x.value } dz/dx={x.grad_value}')\n",
        "    print(f'y= {y.value } dz/dy={y.grad_value}')\n",
        "    print(f'a= {a.value } dz/da={a.grad_value}')\n",
        "    print(f'b= {b.value } dz/db={b.grad_value}')\n",
        "    print(f'z= {z.value } dz/dz={z.grad_value}')\n",
        "\n",
        "\n",
        "print(f'\\n{x.children[0][0]},{x.children[0][1]}  <-- This is first child of x which is a. da/dx=4.2 with  a=4.2*0.5=2.1')\n",
        "print(f'{x.children[1][0]:.2f},{x.children[1][1]}  <-- This is second child of x which is b. db/dx=cos(0.5)=0.87 with b=sin(0.5)=0.479\\n')\n",
        "\n",
        "print(f'{y.children[0][0]},{y.children[0][1]} <-- y only has 1 child which is a. da/dy=0.5 with  a=4.2*0.5=2.1\\n')\n",
        "\n",
        "print(f'{a.children[0][0]},{a.children[0][1]} <-- a only has 1 child which is z. dz/da=1 with  z=a*b=2.57..\\n')\n",
        "print(f'{b.children[0][0]},{b.children[0][1]} <-- b too only has 1 child which is z. dz/db=1 with  z=a*b=2.57..\\n')\n"
      ],
      "execution_count": null,
      "outputs": [
        {
          "output_type": "stream",
          "name": "stdout",
          "text": [
            "\n",
            "4.2,2.1  <-- This is first child of x which is a. da/dx=4.2 with  a=4.2*0.5=2.1\n",
            "0.88,0.479425538604203  <-- This is second child of x which is b. db/dx=cos(0.5)=0.87 with b=sin(0.5)=0.479\n",
            "\n",
            "0.5,2.1 <-- y only has 1 child which is a. da/dy=0.5 with  a=4.2*0.5=2.1\n",
            "\n",
            "1.0,2.579425538604203 <-- a only has 1 child which is z. dz/da=1 with  z=a*b=2.57..\n",
            "\n",
            "1.0,2.579425538604203 <-- b too only has 1 child which is z. dz/db=1 with  z=a*b=2.57..\n",
            "\n"
          ]
        }
      ]
    },
    {
      "cell_type": "markdown",
      "metadata": {
        "id": "iW9AKYOUy_c-"
      },
      "source": [
        "#Reverse mode computation\n",
        "\n",
        "So far we have done forward computing as we go. But we haven't computed $\\frac{\\partial z}{\\partial x}$ and $\\frac{\\partial z}{\\partial y}$ "
      ]
    },
    {
      "cell_type": "code",
      "metadata": {
        "colab": {
          "base_uri": "https://localhost:8080/"
        },
        "id": "a2NaYx-5zB_Z",
        "outputId": "3bf85302-163d-4132-9ee0-054460e78c8c"
      },
      "source": [
        "print('\\n --Before seeding--')\n",
        "printGradValue()# This should be None\n",
        "\n",
        "print('\\n --After seeding--')\n",
        "z.grad_value=1.0 #Seeding #dz/dz =1\n",
        "x.grad()\n",
        "y.grad()\n",
        "\n",
        "printGradValue() #Only after seeding and running .grad() method this has value\n",
        "\n"
      ],
      "execution_count": null,
      "outputs": [
        {
          "output_type": "stream",
          "name": "stdout",
          "text": [
            "\n",
            " --Before seeding--\n",
            "x= 0.5 dz/dx=5.077582561890373\n",
            "y= 4.2 dz/dy=None\n",
            "a= 2.1 dz/da=1.0\n",
            "b= 0.479425538604203 dz/db=1.0\n",
            "z= 2.579425538604203 dz/dz=1.0\n",
            "\n",
            " --After seeding--\n",
            "x= 0.5 dz/dx=5.077582561890373\n",
            "y= 4.2 dz/dy=0.5\n",
            "a= 2.1 dz/da=1.0\n",
            "b= 0.479425538604203 dz/db=1.0\n",
            "z= 2.579425538604203 dz/dz=1.0\n"
          ]
        }
      ]
    }
  ]
}