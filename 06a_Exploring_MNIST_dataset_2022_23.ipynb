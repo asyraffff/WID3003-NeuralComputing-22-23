{
  "nbformat": 4,
  "nbformat_minor": 0,
  "metadata": {
    "colab": {
      "provenance": [],
      "authorship_tag": "ABX9TyO4EBd+3GIJXsoU07Wb2BWn"
    },
    "kernelspec": {
      "name": "python3",
      "display_name": "Python 3"
    },
    "language_info": {
      "name": "python"
    }
  },
  "cells": [
    {
      "cell_type": "markdown",
      "metadata": {
        "id": "BtQSkl871dEV"
      },
      "source": [
        "### MNIST: Handwritten digit classification dataset\n",
        "\n",
        "\n",
        "* Developed by Yann LeCun, Corinna Cortes and Christopher Burges for evaluating \n",
        "Machine Learning models on the handwritten digit classification problem.\n",
        "\n",
        "* It is an image dataset of digits 0 to 9. Each image is of 28x28 pixels, and centred. There are 60,000 images used for training and 10,000 images used for testing Machine Learning models.\n",
        "\n",
        "* MNIST stands for Modified NIST where NIST stands for National Institute of Standards and Technology (NIST) where the original scanned documents come from. \n",
        "\n",
        "* It is used widely as a benchmark dataset. One site that tells who is best at classifying the MNIST dataset (and other datasets as well) is http://rodrigob.github.io/are_we_there_yet/build/#about. (You'll find many other sites/blogs/github that keep tracks of 'leader boards'. But be aware that many are maintained by grad students, so it becomes obsolute when they stopped keeping track. Usually happens once they graduate)\n",
        "\n",
        "* As you can see from the link above, performance of models are reported as **prediction error**. State of the art models achieve  prediction error of less than 1% (what does this tells us about the prediction accuracy?).\n",
        "\n",
        "\n"
      ]
    },
    {
      "cell_type": "markdown",
      "metadata": {
        "id": "iPuiWgMw0b_R"
      },
      "source": [
        "##Download the dataset\n",
        "\n",
        "* We can download the MNIST dataset (and many others) using the torchvision library.\n",
        "\n",
        "* It can take a while to download. Also sometime the server is down. In that case you'll have to source from somewhere else or use another dataset (eg. FashionMNIST)"
      ]
    },
    {
      "cell_type": "code",
      "metadata": {
        "id": "9ONRMveiy2_x"
      },
      "source": [
        "import torch\n",
        "from torchvision import datasets\n",
        "\n",
        "\n",
        "#dataset = datasets.FashionMNIST()...# there are many datasets that you can use.\n",
        "dataset = datasets.MNIST(root='.',train=True, download=True)\n",
        "\n",
        "\n",
        "#There are many other types of datasets other than torchvision.....\n",
        "\n",
        "\n"
      ],
      "execution_count": null,
      "outputs": []
    },
    {
      "cell_type": "code",
      "source": [
        "dataset."
      ],
      "metadata": {
        "id": "ZQUu01I81mQk"
      },
      "execution_count": null,
      "outputs": []
    },
    {
      "cell_type": "markdown",
      "metadata": {
        "id": "_wlP9Cdh52Zj"
      },
      "source": [
        "#Explore the dataset\n",
        "\n",
        "* Before building a neural network to do MNIST handwriting classification, let's explore the dataset first.\n",
        "\n",
        "* The MNIST object is a subclass of a PyTorch torch.utils.data.Dataset class, which as we'll see later can be used with a DataLoader object to provide streaming access to batches of data. The MNIST object loads all of the data in memory because it is so small; other datasets will load the data from disk (or elsewhere) on demand.\n",
        "\n",
        "* Let's start by visualizing some of the images."
      ]
    },
    {
      "cell_type": "code",
      "metadata": {
        "id": "rGQiEXzo6k_m",
        "colab": {
          "base_uri": "https://localhost:8080/",
          "height": 1000
        },
        "outputId": "325078d9-3ab4-44a7-f25e-8a9c57a11216"
      },
      "source": [
        "import matplotlib.pyplot as plt\n",
        "\n",
        "i=2\n",
        "plt.imshow(dataset.train_data[i],cmap=plt.get_cmap('gray'))\n",
        "  \n",
        "\n",
        "#Visualize first 10 images\n",
        "for i in range(10):\n",
        "  #print(dataset.train_data[i])\n",
        "  plt.imshow(dataset.train_data[i],cmap=plt.get_cmap('gray'))\n",
        "  plt.show()\n"
      ],
      "execution_count": null,
      "outputs": [
        {
          "output_type": "stream",
          "name": "stderr",
          "text": [
            "/usr/local/lib/python3.7/dist-packages/torchvision/datasets/mnist.py:75: UserWarning: train_data has been renamed data\n",
            "  warnings.warn(\"train_data has been renamed data\")\n"
          ]
        },
        {
          "output_type": "display_data",
          "data": {
            "text/plain": [
              "<Figure size 432x288 with 1 Axes>"
            ],
            "image/png": "[encoded data removed]"
          },
          "metadata": {
            "needs_background": "light"
          }
        },
        {
          "output_type": "display_data",
          "data": {
            "text/plain": [
              "<Figure size 432x288 with 1 Axes>"
            ],
            "image/png": "[encoded data removed]"
          },
          "metadata": {
            "needs_background": "light"
          }
        },
        {
          "output_type": "display_data",
          "data": {
            "text/plain": [
              "<Figure size 432x288 with 1 Axes>"
            ],
            "image/png": "[encoded data removed]"
          },
          "metadata": {
            "needs_background": "light"
          }
        },
        {
          "output_type": "display_data",
          "data": {
            "text/plain": [
              "<Figure size 432x288 with 1 Axes>"
            ],
            "image/png": "[encoded data removed]"
          },
          "metadata": {
            "needs_background": "light"
          }
        },
        {
          "output_type": "display_data",
          "data": {
            "text/plain": [
              "<Figure size 432x288 with 1 Axes>"
            ],
            "image/png": "[encoded data removed]"
          },
          "metadata": {
            "needs_background": "light"
          }
        },
        {
          "output_type": "display_data",
          "data": {
            "text/plain": [
              "<Figure size 432x288 with 1 Axes>"
            ],
            "image/png": "[encoded data removed]"
          },
          "metadata": {
            "needs_background": "light"
          }
        },
        {
          "output_type": "display_data",
          "data": {
            "text/plain": [
              "<Figure size 432x288 with 1 Axes>"
            ],
            "image/png": "[encoded data removed]"
          },
          "metadata": {
            "needs_background": "light"
          }
        },
        {
          "output_type": "display_data",
          "data": {
            "text/plain": [
              "<Figure size 432x288 with 1 Axes>"
            ],
            "image/png": "[encoded data removed]"
          },
          "metadata": {
            "needs_background": "light"
          }
        },
        {
          "output_type": "display_data",
          "data": {
            "text/plain": [
              "<Figure size 432x288 with 1 Axes>"
            ],
            "image/png": "[encoded data removed]"
          },
          "metadata": {
            "needs_background": "light"
          }
        },
        {
          "output_type": "display_data",
          "data": {
            "text/plain": [
              "<Figure size 432x288 with 1 Axes>"
            ],
            "image/png": "[encoded data removed]"
          },
          "metadata": {
            "needs_background": "light"
          }
        }
      ]
    },
    {
      "cell_type": "markdown",
      "metadata": {
        "id": "LRt6h15_CDjk"
      },
      "source": [
        "##What is the shape of train data? How is the label of each image stored? Print out the first 10 labels."
      ]
    },
    {
      "cell_type": "code",
      "metadata": {
        "colab": {
          "base_uri": "https://localhost:8080/"
        },
        "id": "q7v0YPtnCI-C",
        "outputId": "4d342244-77a6-4b9b-82a0-85213de8baf8"
      },
      "source": [
        "#Get some info \n",
        "print(dataset)\n",
        "print(dataset.train_data.shape)\n",
        "\n",
        "#How is the label of each image stored? Print out the first 10 labels\n",
        "print(dataset.train_labels.shape)"
      ],
      "execution_count": null,
      "outputs": [
        {
          "output_type": "stream",
          "name": "stdout",
          "text": [
            "Dataset MNIST\n",
            "    Number of datapoints: 60000\n",
            "    Root location: .\n",
            "    Split: Train\n",
            "torch.Size([60000, 28, 28])\n",
            "torch.Size([60000])\n"
          ]
        },
        {
          "output_type": "stream",
          "name": "stderr",
          "text": [
            "/usr/local/lib/python3.7/dist-packages/torchvision/datasets/mnist.py:75: UserWarning: train_data has been renamed data\n",
            "  warnings.warn(\"train_data has been renamed data\")\n",
            "/usr/local/lib/python3.7/dist-packages/torchvision/datasets/mnist.py:65: UserWarning: train_labels has been renamed targets\n",
            "  warnings.warn(\"train_labels has been renamed targets\")\n"
          ]
        }
      ]
    },
    {
      "cell_type": "markdown",
      "metadata": {
        "id": "FAuZrizXAG7t"
      },
      "source": [
        "#How many instances are there for each label? Is the dataset balance?\n",
        "\n",
        "\n",
        "Your answer should be \n",
        "\n",
        "--Number of instances for each classes-- \\\n",
        "Label  0  : 5923.0 \\\n",
        "Label  1  : 6742.0 \\\n",
        "Label  2  : 5958.0 \\ \n",
        "Label  3  : 6131.0 \\ \n",
        "Label  4  : 5842.0 \\\n",
        "Label  5  : 5421.0 \\\n",
        "Label  6  : 5918.0 \\\n",
        "Label  7  : 6265.0 \\\n",
        "Label  8  : 5851.0 \\ \n",
        "Label  9  : 5949.0 \\\n",
        "\n",
        "Check total labels, should tally with number of samples\n",
        "60000.0\n",
        "\n",
        "--Imbalance data check: Percentage of instances for each classes-- \\\n",
        "Label 0 : 9.87% \\\n",
        "Label 1 : 11.24% \\\n",
        "Label 2 : 9.93% \\\n",
        "Label 3 : 10.22% \\\n",
        "Label 4 : 9.74% \\\n",
        "Label 5 : 9.04% \\\n",
        "Label 6 : 9.86% \\\n",
        "Label 7 : 10.44% \n",
        "\n",
        "Label 8 : 9.75% \\\n",
        "Label 9 : 9.92% "
      ]
    },
    {
      "cell_type": "markdown",
      "metadata": {
        "id": "Q7mu_5v9CpxZ"
      },
      "source": [
        "##Why are checking for the number of instances in each class/labels?"
      ]
    }
  ]
}