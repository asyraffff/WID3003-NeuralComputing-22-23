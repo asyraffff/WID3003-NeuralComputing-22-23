{
  "nbformat": 4,
  "nbformat_minor": 0,
  "metadata": {
    "colab": {
      "provenance": [],
      "gpuType": "T4",
      "authorship_tag": "ABX9TyMANNacjtBvAPEO+H5xo6C0"
    },
    "kernelspec": {
      "name": "python3",
      "display_name": "Python 3"
    },
    "language_info": {
      "name": "python"
    },
    "accelerator": "GPU"
  },
  "cells": [
    {
      "cell_type": "code",
      "source": [
        "#Source https://medium.com/intel-student-ambassadors/mnist-gan-detailed-step-by-step-explanation-implementation-in-code-ecc93b22dc60\n",
        "\n",
        "#https://github.com/lyeoni/pytorch-mnist-GAN/blob/master/pytorch-mnist-GAN.ipynb\n",
        "\n",
        "# Sebastian's GAN example uses quite a few helper functions. This code is as close as to what we've done so far"
      ],
      "metadata": {
        "id": "_-V07FdlaRyi"
      },
      "execution_count": null,
      "outputs": []
    },
    {
      "cell_type": "markdown",
      "source": [
        "#Example of a simple GAN\n",
        "\n",
        "In this example, the Discriminator and Generator components are both fully connected layers regularized by Dropout. In many architectures today, Convolution based GANs such as Deep Convolution GANs (DCGANs) are more popular.\n",
        "\n"
      ],
      "metadata": {
        "id": "CdOJzESQkICT"
      }
    },
    {
      "cell_type": "markdown",
      "source": [
        "### 1. Dependencies, datasets, dataloaders."
      ],
      "metadata": {
        "id": "McWwNbUxjbij"
      }
    },
    {
      "cell_type": "code",
      "execution_count": null,
      "metadata": {
        "id": "VM_I2kslZAZy"
      },
      "outputs": [],
      "source": [
        "\n",
        "# prerequisites\n",
        "import torch\n",
        "import torch.nn as nn\n",
        "import torch.nn.functional as F\n",
        "import torch.optim as optim\n",
        "from torchvision import datasets, transforms\n",
        "from torch.autograd import Variable\n",
        "from torchvision.utils import save_image\n",
        "from torch.utils.data import DataLoader\n",
        "\n",
        "# Device configuration\n",
        "device = torch.device('cuda' if torch.cuda.is_available() else 'cpu')\n",
        "batchSize = 100\n",
        "\n",
        "#I'm using the transform that we've been using so far in the course as opposed to what the original sources are using\n",
        "transform = transforms.Compose([\n",
        "                                transforms.ToTensor(), #this convert to tensor\n",
        "                                transforms.Lambda(lambda x:x.view(-1))  #this flatten 28*28 into a 784 vector for each image\n",
        "])\n",
        "\n",
        "train_dataset = datasets.MNIST(root='./mnist_data/', train=True, transform=transform, download=True)\n",
        "test_dataset = datasets.MNIST(root='./mnist_data/', train=False, transform=transform, download=False)\n",
        "\n",
        "# Data Loader (Input Pipeline)\n",
        "train_loader = DataLoader(dataset=train_dataset, batch_size=batchSize, shuffle=True)\n",
        "test_loader = DataLoader(dataset=test_dataset, batch_size=batchSize, shuffle=False)\n"
      ]
    },
    {
      "cell_type": "markdown",
      "source": [
        "### 2. Define Discriminator and Generator Networks"
      ],
      "metadata": {
        "id": "rCnp6a-biujv"
      }
    },
    {
      "cell_type": "code",
      "source": [
        "class Generator(nn.Module):\n",
        "    def __init__(self, g_input_dim, g_output_dim):\n",
        "        super(Generator, self).__init__()       \n",
        "        self.fc1 = nn.Linear(g_input_dim, 256)\n",
        "        self.fc2 = nn.Linear(self.fc1.out_features, self.fc1.out_features*2) #512\n",
        "        self.fc3 = nn.Linear(self.fc2.out_features, self.fc2.out_features*2) #1024\n",
        "        self.fc4 = nn.Linear(self.fc3.out_features, g_output_dim) #784\n",
        "    \n",
        "    # forward method\n",
        "    def forward(self, x): \n",
        "        x = F.leaky_relu(self.fc1(x), 0.2)\n",
        "        x = F.leaky_relu(self.fc2(x), 0.2)\n",
        "        x = F.leaky_relu(self.fc3(x), 0.2)\n",
        "        return torch.tanh(self.fc4(x))\n",
        "    \n",
        "class Discriminator(nn.Module):\n",
        "    def __init__(self, d_input_dim):\n",
        "        super(Discriminator, self).__init__()\n",
        "        self.fc1 = nn.Linear(d_input_dim, 1024)\n",
        "        self.fc2 = nn.Linear(self.fc1.out_features, self.fc1.out_features//2)\n",
        "        self.fc3 = nn.Linear(self.fc2.out_features, self.fc2.out_features//2)\n",
        "        self.fc4 = nn.Linear(self.fc3.out_features, 1)\n",
        "    \n",
        "    # forward method\n",
        "    def forward(self, x):\n",
        "        x = F.leaky_relu(self.fc1(x), 0.2)\n",
        "        x = F.dropout(x, 0.3)\n",
        "        x = F.leaky_relu(self.fc2(x), 0.2)\n",
        "        x = F.dropout(x, 0.3)\n",
        "        x = F.leaky_relu(self.fc3(x), 0.2)\n",
        "        x = F.dropout(x, 0.3)\n",
        "        return torch.sigmoid(self.fc4(x))\n"
      ],
      "metadata": {
        "id": "OO8Hxrryh_zZ"
      },
      "execution_count": null,
      "outputs": []
    },
    {
      "cell_type": "markdown",
      "source": [
        "## 3. Define functions for training Disciminator and Generator\n",
        "\n",
        "Pay attention to how the losses are defined. "
      ],
      "metadata": {
        "id": "2hsxaz8oi4wq"
      }
    },
    {
      "cell_type": "code",
      "source": [
        "def D_train(x):\n",
        "    #=======================Train the discriminator=======================#\n",
        "    D.zero_grad()\n",
        "\n",
        "    # 1. Train discriminator to identify real images as real\n",
        "    x_real, y_real = x.view(-1, mnist_dim), torch.ones(batchSize, 1)  #torch.ones, to set labels of real images as true\n",
        "    x_real, y_real = Variable(x_real.to(device)), Variable(y_real.to(device))\n",
        "\n",
        "    D_output = D(x_real)\n",
        "    D_real_loss = criterion(D_output, y_real)\n",
        "    D_real_score = D_output\n",
        "\n",
        "    # 2. Train discriminator to identify fake images as fakes\n",
        "    z = Variable(torch.randn(batchSize, z_dim).to(device))\n",
        "    x_fake, y_fake = G(z), Variable(torch.zeros(batchSize, 1).to(device)) #torch.zeros, to set labels of fake images as fakes\n",
        "\n",
        "    D_output = D(x_fake)\n",
        "    D_fake_loss = criterion(D_output, y_fake)\n",
        "    D_fake_score = D_output\n",
        "\n",
        "    # gradient backprop & optimize ONLY D's parameters\n",
        "    D_loss = D_real_loss + D_fake_loss   #IMPORTANT!!\n",
        "    D_loss.backward()\n",
        "    D_optimizer.step()\n",
        "        \n",
        "    return  D_loss.data.item()\n",
        "\n",
        "\n",
        "def G_train(x):\n",
        "    #=======================Train the generator=======================#\n",
        "    G.zero_grad()\n",
        "\n",
        "    # 3. Train Generator to generate/identify fake images as real \n",
        "    z = Variable(torch.randn(batchSize, z_dim).to(device))\n",
        "    y = Variable(torch.ones(batchSize, 1).to(device)) #\"flipping labels\". Labels are supposed to be 0 (fake) but we are labelling as 1 (true)\n",
        "\n",
        "    G_output = G(z)\n",
        "    D_output = D(G_output)\n",
        "    G_loss = criterion(D_output, y)\n",
        "\n",
        "    # gradient backprop & optimize ONLY G's parameters\n",
        "    G_loss.backward()\n",
        "    G_optimizer.step()\n",
        "        \n",
        "    return G_loss.data.item()\n"
      ],
      "metadata": {
        "id": "XN_522IPh-0q"
      },
      "execution_count": null,
      "outputs": []
    },
    {
      "cell_type": "markdown",
      "source": [
        "## 4. Declare model, loss, optimizer"
      ],
      "metadata": {
        "id": "oRrLi5XxjDj6"
      }
    },
    {
      "cell_type": "code",
      "source": [
        "# build network\n",
        "z_dim = 100\n",
        "mnist_dim = train_dataset.train_data.size(1) * train_dataset.train_data.size(2)\n",
        "\n",
        "#The dimensions are set as same as the original GAN paper if I'm correct\n",
        "G = Generator(g_input_dim = z_dim, g_output_dim = mnist_dim).to(device)\n",
        "D = Discriminator(mnist_dim).to(device)\n",
        "\n",
        "# loss\n",
        "criterion = nn.BCELoss() #Binary Cross Entropy\n",
        "\n",
        "# optimizer\n",
        "lr = 0.0002 \n",
        "G_optimizer = optim.Adam(G.parameters(), lr = lr)\n",
        "D_optimizer = optim.Adam(D.parameters(), lr = lr)\n"
      ],
      "metadata": {
        "id": "-riMHsADh_Mw"
      },
      "execution_count": null,
      "outputs": []
    },
    {
      "cell_type": "markdown",
      "source": [
        "### 5. Training\n",
        "\n",
        "As usual, this takes the longest. Change your settings to GPU.\n",
        "\n",
        "* Train Discriminator to identify real images\n",
        "* Train Discriminator to identify fake images\n",
        "* Train Generator to generate fake images that are real "
      ],
      "metadata": {
        "id": "NNHaKdUajK2a"
      }
    },
    {
      "cell_type": "code",
      "source": [
        "n_epoch = 200\n",
        "for epoch in range(1, n_epoch+1):           \n",
        "    D_losses, G_losses = [], []\n",
        "    for batch_idx, (x, _) in enumerate(train_loader):\n",
        "        D_losses.append(D_train(x))\n",
        "        G_losses.append(G_train(x))\n",
        "\n",
        "    print('[%d/%d]: loss_d: %.3f, loss_g: %.3f' % (\n",
        "            (epoch), n_epoch, torch.mean(torch.FloatTensor(D_losses)), torch.mean(torch.FloatTensor(G_losses))))\n",
        "\n",
        " "
      ],
      "metadata": {
        "colab": {
          "base_uri": "https://localhost:8080/"
        },
        "id": "4bLoH_eAiiiE",
        "outputId": "cbeae356-6d8c-4286-c6da-89e10d813190"
      },
      "execution_count": null,
      "outputs": [
        {
          "output_type": "stream",
          "name": "stdout",
          "text": [
            "[1/200]: loss_d: 1.331, loss_g: 1.068\n",
            "[2/200]: loss_d: 1.049, loss_g: 2.003\n",
            "[3/200]: loss_d: 0.764, loss_g: 2.152\n",
            "[4/200]: loss_d: 0.720, loss_g: 2.294\n",
            "[5/200]: loss_d: 0.742, loss_g: 2.209\n",
            "[6/200]: loss_d: 0.785, loss_g: 1.954\n",
            "[7/200]: loss_d: 0.783, loss_g: 2.095\n",
            "[8/200]: loss_d: 0.712, loss_g: 2.210\n",
            "[9/200]: loss_d: 0.748, loss_g: 2.143\n",
            "[10/200]: loss_d: 0.766, loss_g: 2.000\n",
            "[11/200]: loss_d: 0.729, loss_g: 2.033\n",
            "[12/200]: loss_d: 0.794, loss_g: 2.043\n",
            "[13/200]: loss_d: 0.765, loss_g: 1.974\n",
            "[14/200]: loss_d: 0.819, loss_g: 2.136\n",
            "[15/200]: loss_d: 0.739, loss_g: 2.064\n",
            "[16/200]: loss_d: 0.786, loss_g: 2.046\n",
            "[17/200]: loss_d: 0.761, loss_g: 1.954\n",
            "[18/200]: loss_d: 0.695, loss_g: 2.049\n",
            "[19/200]: loss_d: 0.729, loss_g: 2.268\n",
            "[20/200]: loss_d: 0.715, loss_g: 2.141\n",
            "[21/200]: loss_d: 0.702, loss_g: 2.286\n",
            "[22/200]: loss_d: 0.700, loss_g: 2.106\n",
            "[23/200]: loss_d: 0.692, loss_g: 2.166\n",
            "[24/200]: loss_d: 0.668, loss_g: 2.289\n",
            "[25/200]: loss_d: 0.642, loss_g: 2.403\n",
            "[26/200]: loss_d: 0.642, loss_g: 2.309\n",
            "[27/200]: loss_d: 0.625, loss_g: 2.364\n",
            "[28/200]: loss_d: 0.642, loss_g: 2.322\n",
            "[29/200]: loss_d: 0.614, loss_g: 2.465\n",
            "[30/200]: loss_d: 0.636, loss_g: 2.475\n",
            "[31/200]: loss_d: 0.618, loss_g: 2.373\n",
            "[32/200]: loss_d: 0.594, loss_g: 2.469\n",
            "[33/200]: loss_d: 0.595, loss_g: 2.498\n",
            "[34/200]: loss_d: 0.586, loss_g: 2.496\n",
            "[35/200]: loss_d: 0.554, loss_g: 2.588\n",
            "[36/200]: loss_d: 0.540, loss_g: 2.630\n",
            "[37/200]: loss_d: 0.532, loss_g: 2.688\n",
            "[38/200]: loss_d: 0.527, loss_g: 2.660\n",
            "[39/200]: loss_d: 0.517, loss_g: 2.758\n",
            "[40/200]: loss_d: 0.510, loss_g: 2.757\n",
            "[41/200]: loss_d: 0.487, loss_g: 2.901\n",
            "[42/200]: loss_d: 0.470, loss_g: 3.034\n",
            "[43/200]: loss_d: 0.442, loss_g: 3.084\n",
            "[44/200]: loss_d: 0.423, loss_g: 3.099\n",
            "[45/200]: loss_d: 0.437, loss_g: 3.123\n",
            "[46/200]: loss_d: 0.416, loss_g: 3.117\n",
            "[47/200]: loss_d: 0.412, loss_g: 3.154\n",
            "[48/200]: loss_d: 0.409, loss_g: 3.226\n",
            "[49/200]: loss_d: 0.398, loss_g: 3.305\n",
            "[50/200]: loss_d: 0.412, loss_g: 3.192\n",
            "[51/200]: loss_d: 0.390, loss_g: 3.375\n",
            "[52/200]: loss_d: 0.365, loss_g: 3.386\n",
            "[53/200]: loss_d: 0.365, loss_g: 3.506\n",
            "[54/200]: loss_d: 0.353, loss_g: 3.586\n",
            "[55/200]: loss_d: 0.354, loss_g: 3.587\n",
            "[56/200]: loss_d: 0.330, loss_g: 3.608\n",
            "[57/200]: loss_d: 0.325, loss_g: 3.708\n",
            "[58/200]: loss_d: 0.331, loss_g: 3.725\n",
            "[59/200]: loss_d: 0.319, loss_g: 3.778\n",
            "[60/200]: loss_d: 0.323, loss_g: 3.701\n",
            "[61/200]: loss_d: 0.322, loss_g: 3.745\n",
            "[62/200]: loss_d: 0.318, loss_g: 3.764\n",
            "[63/200]: loss_d: 0.315, loss_g: 3.798\n",
            "[64/200]: loss_d: 0.315, loss_g: 3.856\n",
            "[65/200]: loss_d: 0.303, loss_g: 3.885\n",
            "[66/200]: loss_d: 0.310, loss_g: 3.883\n",
            "[67/200]: loss_d: 0.303, loss_g: 3.963\n",
            "[68/200]: loss_d: 0.290, loss_g: 3.980\n",
            "[69/200]: loss_d: 0.291, loss_g: 4.031\n",
            "[70/200]: loss_d: 0.283, loss_g: 4.030\n",
            "[71/200]: loss_d: 0.298, loss_g: 4.115\n",
            "[72/200]: loss_d: 0.287, loss_g: 4.057\n",
            "[73/200]: loss_d: 0.288, loss_g: 4.097\n",
            "[74/200]: loss_d: 0.282, loss_g: 4.054\n",
            "[75/200]: loss_d: 0.283, loss_g: 4.113\n",
            "[76/200]: loss_d: 0.281, loss_g: 4.198\n",
            "[77/200]: loss_d: 0.284, loss_g: 4.105\n",
            "[78/200]: loss_d: 0.280, loss_g: 4.201\n",
            "[79/200]: loss_d: 0.281, loss_g: 4.220\n",
            "[80/200]: loss_d: 0.270, loss_g: 4.223\n",
            "[81/200]: loss_d: 0.273, loss_g: 4.275\n",
            "[82/200]: loss_d: 0.281, loss_g: 4.249\n",
            "[83/200]: loss_d: 0.278, loss_g: 4.250\n",
            "[84/200]: loss_d: 0.272, loss_g: 4.141\n",
            "[85/200]: loss_d: 0.280, loss_g: 4.269\n",
            "[86/200]: loss_d: 0.268, loss_g: 4.313\n",
            "[87/200]: loss_d: 0.266, loss_g: 4.347\n",
            "[88/200]: loss_d: 0.279, loss_g: 4.274\n",
            "[89/200]: loss_d: 0.275, loss_g: 4.280\n",
            "[90/200]: loss_d: 0.263, loss_g: 4.283\n",
            "[91/200]: loss_d: 0.261, loss_g: 4.440\n",
            "[92/200]: loss_d: 0.254, loss_g: 4.396\n",
            "[93/200]: loss_d: 0.262, loss_g: 4.363\n",
            "[94/200]: loss_d: 0.273, loss_g: 4.328\n",
            "[95/200]: loss_d: 0.279, loss_g: 4.215\n",
            "[96/200]: loss_d: 0.279, loss_g: 4.331\n",
            "[97/200]: loss_d: 0.270, loss_g: 4.317\n",
            "[98/200]: loss_d: 0.264, loss_g: 4.263\n",
            "[99/200]: loss_d: 0.269, loss_g: 4.315\n",
            "[100/200]: loss_d: 0.279, loss_g: 4.303\n",
            "[101/200]: loss_d: 0.265, loss_g: 4.355\n",
            "[102/200]: loss_d: 0.267, loss_g: 4.319\n",
            "[103/200]: loss_d: 0.262, loss_g: 4.364\n",
            "[104/200]: loss_d: 0.272, loss_g: 4.304\n",
            "[105/200]: loss_d: 0.277, loss_g: 4.296\n",
            "[106/200]: loss_d: 0.270, loss_g: 4.252\n",
            "[107/200]: loss_d: 0.271, loss_g: 4.289\n",
            "[108/200]: loss_d: 0.274, loss_g: 4.288\n",
            "[109/200]: loss_d: 0.265, loss_g: 4.335\n",
            "[110/200]: loss_d: 0.260, loss_g: 4.390\n",
            "[111/200]: loss_d: 0.268, loss_g: 4.413\n",
            "[112/200]: loss_d: 0.263, loss_g: 4.369\n",
            "[113/200]: loss_d: 0.271, loss_g: 4.316\n",
            "[114/200]: loss_d: 0.267, loss_g: 4.338\n",
            "[115/200]: loss_d: 0.268, loss_g: 4.339\n",
            "[116/200]: loss_d: 0.259, loss_g: 4.370\n",
            "[117/200]: loss_d: 0.278, loss_g: 4.373\n",
            "[118/200]: loss_d: 0.268, loss_g: 4.319\n",
            "[119/200]: loss_d: 0.257, loss_g: 4.427\n",
            "[120/200]: loss_d: 0.258, loss_g: 4.272\n",
            "[121/200]: loss_d: 0.282, loss_g: 4.349\n",
            "[122/200]: loss_d: 0.274, loss_g: 4.263\n",
            "[123/200]: loss_d: 0.262, loss_g: 4.278\n",
            "[124/200]: loss_d: 0.257, loss_g: 4.347\n",
            "[125/200]: loss_d: 0.275, loss_g: 4.344\n",
            "[126/200]: loss_d: 0.265, loss_g: 4.336\n",
            "[127/200]: loss_d: 0.260, loss_g: 4.315\n",
            "[128/200]: loss_d: 0.259, loss_g: 4.468\n",
            "[129/200]: loss_d: 0.269, loss_g: 4.437\n",
            "[130/200]: loss_d: 0.266, loss_g: 4.306\n",
            "[131/200]: loss_d: 0.265, loss_g: 4.329\n",
            "[132/200]: loss_d: 0.272, loss_g: 4.303\n",
            "[133/200]: loss_d: 0.268, loss_g: 4.244\n",
            "[134/200]: loss_d: 0.277, loss_g: 4.178\n",
            "[135/200]: loss_d: 0.272, loss_g: 4.247\n",
            "[136/200]: loss_d: 0.269, loss_g: 4.251\n",
            "[137/200]: loss_d: 0.277, loss_g: 4.137\n",
            "[138/200]: loss_d: 0.278, loss_g: 4.316\n",
            "[139/200]: loss_d: 0.275, loss_g: 4.269\n",
            "[140/200]: loss_d: 0.283, loss_g: 4.201\n",
            "[141/200]: loss_d: 0.274, loss_g: 4.167\n",
            "[142/200]: loss_d: 0.279, loss_g: 4.277\n",
            "[143/200]: loss_d: 0.260, loss_g: 4.191\n",
            "[144/200]: loss_d: 0.277, loss_g: 4.218\n",
            "[145/200]: loss_d: 0.270, loss_g: 4.231\n",
            "[146/200]: loss_d: 0.269, loss_g: 4.120\n",
            "[147/200]: loss_d: 0.281, loss_g: 4.174\n",
            "[148/200]: loss_d: 0.271, loss_g: 4.267\n",
            "[149/200]: loss_d: 0.269, loss_g: 4.117\n",
            "[150/200]: loss_d: 0.285, loss_g: 4.178\n",
            "[151/200]: loss_d: 0.276, loss_g: 4.037\n",
            "[152/200]: loss_d: 0.273, loss_g: 4.098\n",
            "[153/200]: loss_d: 0.276, loss_g: 4.203\n",
            "[154/200]: loss_d: 0.278, loss_g: 4.153\n",
            "[155/200]: loss_d: 0.283, loss_g: 4.126\n",
            "[156/200]: loss_d: 0.293, loss_g: 4.135\n",
            "[157/200]: loss_d: 0.276, loss_g: 4.090\n",
            "[158/200]: loss_d: 0.276, loss_g: 4.113\n",
            "[159/200]: loss_d: 0.279, loss_g: 4.157\n",
            "[160/200]: loss_d: 0.280, loss_g: 4.157\n",
            "[161/200]: loss_d: 0.280, loss_g: 4.025\n",
            "[162/200]: loss_d: 0.267, loss_g: 4.062\n",
            "[163/200]: loss_d: 0.284, loss_g: 4.103\n",
            "[164/200]: loss_d: 0.293, loss_g: 4.200\n",
            "[165/200]: loss_d: 0.275, loss_g: 4.152\n",
            "[166/200]: loss_d: 0.283, loss_g: 4.090\n",
            "[167/200]: loss_d: 0.287, loss_g: 4.103\n",
            "[168/200]: loss_d: 0.278, loss_g: 4.042\n",
            "[169/200]: loss_d: 0.286, loss_g: 4.010\n",
            "[170/200]: loss_d: 0.286, loss_g: 4.076\n",
            "[171/200]: loss_d: 0.291, loss_g: 4.027\n",
            "[172/200]: loss_d: 0.283, loss_g: 4.018\n",
            "[173/200]: loss_d: 0.291, loss_g: 4.125\n",
            "[174/200]: loss_d: 0.282, loss_g: 4.021\n",
            "[175/200]: loss_d: 0.303, loss_g: 3.993\n",
            "[176/200]: loss_d: 0.286, loss_g: 3.999\n",
            "[177/200]: loss_d: 0.286, loss_g: 3.983\n",
            "[178/200]: loss_d: 0.294, loss_g: 3.968\n",
            "[179/200]: loss_d: 0.277, loss_g: 4.049\n",
            "[180/200]: loss_d: 0.288, loss_g: 4.013\n",
            "[181/200]: loss_d: 0.295, loss_g: 3.930\n",
            "[182/200]: loss_d: 0.289, loss_g: 3.934\n",
            "[183/200]: loss_d: 0.293, loss_g: 4.083\n",
            "[184/200]: loss_d: 0.274, loss_g: 4.020\n",
            "[185/200]: loss_d: 0.279, loss_g: 4.034\n",
            "[186/200]: loss_d: 0.286, loss_g: 3.918\n",
            "[187/200]: loss_d: 0.300, loss_g: 3.899\n",
            "[188/200]: loss_d: 0.294, loss_g: 3.893\n",
            "[189/200]: loss_d: 0.287, loss_g: 3.965\n",
            "[190/200]: loss_d: 0.280, loss_g: 3.886\n",
            "[191/200]: loss_d: 0.297, loss_g: 3.956\n",
            "[192/200]: loss_d: 0.290, loss_g: 3.957\n",
            "[193/200]: loss_d: 0.294, loss_g: 3.892\n",
            "[194/200]: loss_d: 0.293, loss_g: 3.849\n",
            "[195/200]: loss_d: 0.301, loss_g: 3.859\n",
            "[196/200]: loss_d: 0.292, loss_g: 3.841\n",
            "[197/200]: loss_d: 0.300, loss_g: 3.988\n",
            "[198/200]: loss_d: 0.287, loss_g: 3.911\n",
            "[199/200]: loss_d: 0.295, loss_g: 3.780\n",
            "[200/200]: loss_d: 0.299, loss_g: 3.881\n"
          ]
        }
      ]
    },
    {
      "cell_type": "markdown",
      "source": [
        "### 6. Generate a few images"
      ],
      "metadata": {
        "id": "eauHtheAjVCT"
      }
    },
    {
      "cell_type": "code",
      "source": [
        "\n",
        "with torch.no_grad():\n",
        "    test_z = Variable(torch.randn(batchSize, z_dim).to(device))\n",
        "    generated = G(test_z)\n",
        "\n",
        "image_data = generated.view(generated.size(0),1,28,28)\n",
        "print(image_data.shape)\n"
      ],
      "metadata": {
        "colab": {
          "base_uri": "https://localhost:8080/"
        },
        "id": "lJr56G7u87YR",
        "outputId": "933f0132-6b11-4fd7-95f9-b71dd1fe7560"
      },
      "execution_count": null,
      "outputs": [
        {
          "output_type": "stream",
          "name": "stdout",
          "text": [
            "torch.Size([100, 1, 28, 28])\n"
          ]
        }
      ]
    },
    {
      "cell_type": "markdown",
      "source": [
        "### 7. Visualize the generated 'fake-mnist' image"
      ],
      "metadata": {
        "id": "u0q4z4oWC6Ue"
      }
    },
    {
      "cell_type": "code",
      "source": [
        "\n",
        "import matplotlib.pyplot as plt\n",
        "\n",
        "count=1\n",
        "for i in range(9):\n",
        "    imd = image_data[i].view(28,28)\n",
        "    imd = imd.cpu()\n",
        "\n",
        "    plt.subplot(3,3,count)\n",
        "    plt.imshow(imd, cmap=plt.get_cmap('gray'))\n",
        "    count+=1\n",
        "\n",
        "plt.show()\n",
        "  \n",
        "    \n",
        "  \n"
      ],
      "metadata": {
        "colab": {
          "base_uri": "https://localhost:8080/",
          "height": 433
        },
        "id": "URn-P_m19YXy",
        "outputId": "681ba4c8-e3d6-4576-c668-61250155ae87"
      },
      "execution_count": null,
      "outputs": [
        {
          "output_type": "display_data",
          "data": {
            "text/plain": [
              "<Figure size 640x480 with 9 Axes>"
            ],
            "image/png": "[encoded data removed]"
          },
          "metadata": {}
        }
      ]
    }
  ]
}