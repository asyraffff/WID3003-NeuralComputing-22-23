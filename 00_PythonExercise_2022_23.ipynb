{
  "cells": [
    {
      "attachments": {},
      "cell_type": "markdown",
      "metadata": {
        "id": "5Z8-hB_igN9c"
      },
      "source": [
        "# About Dot Product\n",
        "(Asking the same thing in different ways)\n",
        "1.   What is the meaning of dot product?\n",
        "2.   Why do we do dot product?\n",
        "3.   When do we use dot product?\n",
        "4.   When can we use dot product?(and when can't we use it?)"
      ]
    },
    {
      "attachments": {},
      "cell_type": "markdown",
      "metadata": {
        "id": "C-Dd12lDgpGc"
      },
      "source": [
        "# Task\n",
        "\n",
        "1.   Generate 2 random matrices of 5x5 size\n",
        "2.   Do dot product\n",
        "\n",
        "# Question\n",
        "Given a matrix $\\textbf{A}$ defined as \n",
        "\n",
        "$\\textbf{A} =\\begin{bmatrix}\n",
        "    a & b  \\\\\n",
        "    c & d  \\\\\n",
        "\\end{bmatrix}$\n",
        "\n",
        "\n",
        "where $∀i \\in \\textbf{E}=\\{a,b,c,d\\}$,  $i$ is a unique value, how can we generate a symmetric matrix using only $\\textbf{A}$? \n",
        "\n"
      ]
    },
    {
      "attachments": {},
      "cell_type": "markdown",
      "metadata": {
        "id": "pXIGoa1WhXnW"
      },
      "source": [
        "# Basic numpy\n",
        "\n",
        "1. Play around with numpy -there are many tutorials that you can google it.\n",
        "2. Comfortable enough with arrays, list,\n",
        "indexing, access elements, how to reassign values.\n",
        "3. For loops with arrays.\n",
        "4. Can create functions( take input parameters, return a value)\n",
        "5. List comprehension, very convenient.\n",
        "\n"
      ]
    },
    {
      "cell_type": "code",
      "execution_count": 1,
      "metadata": {
        "colab": {
          "base_uri": "https://localhost:8080/"
        },
        "id": "kEv8lNbigfWd",
        "outputId": "1d670017-03ac-4ecc-96c6-548e1ea8991f"
      },
      "outputs": [
        {
          "name": "stdout",
          "output_type": "stream",
          "text": [
            "[1 2 3]\n",
            "[[1 2 3]\n",
            " [4 5 6]]\n",
            "--for loops by rows here---\n",
            "item:  [1 2 3]\n",
            "item:  [4 5 6]\n",
            "3*2 is  6\n"
          ]
        }
      ],
      "source": [
        "import numpy as np\n",
        "\n",
        "arr = np.array([1,2,3]) # create 1-dimensional array\n",
        "\n",
        "print(arr) # print the array\n",
        "\n",
        "arr2d = np.array([[1,2,3], [4,5,6]]) # create 2-dimensional array\n",
        "\n",
        "print(arr2d) # print the array\n",
        "\n",
        "print('--for loops by rows here---')\n",
        "for item in arr2d:\n",
        "    print('item: ', item)\n",
        "# there is much better ways of doing this \n",
        "\n",
        "# Function\n",
        "def addition(x,y):\n",
        "    return x*y\n",
        "\n",
        "print('3*2 is ', addition(3,2))"
      ]
    },
    {
      "attachments": {},
      "cell_type": "markdown",
      "metadata": {
        "id": "TcKrIY_CpLUP"
      },
      "source": [
        "# Summation of array"
      ]
    },
    {
      "cell_type": "code",
      "execution_count": 2,
      "metadata": {
        "colab": {
          "base_uri": "https://localhost:8080/"
        },
        "id": "xnpXJITUpKvI",
        "outputId": "39f351f6-5940-4a82-c367-40cb48052b1c"
      },
      "outputs": [
        {
          "name": "stdout",
          "output_type": "stream",
          "text": [
            "array:  [0.22023007 0.61677041 0.57495194] sum of array:  1.4119524195334694\n"
          ]
        }
      ],
      "source": [
        "arr = np.random.rand(3)\n",
        "print('array: ', arr, 'sum of array: ', arr.sum())"
      ]
    },
    {
      "attachments": {},
      "cell_type": "markdown",
      "metadata": {
        "id": "ZhFmlFsTzGtc"
      },
      "source": [
        "# Transpose, dot product\n",
        "1. Randomly initialize two vectors **a** and **b** of the same dimension\n",
        "2. Perform dot product c = **a.b**\n",
        "\n",
        "# Matrix multiplication\n",
        "1. Randomly initialize two matrices **A** and **B** of the same (inner) dimension\n",
        "2. Perform matrix multiplication  **AB** and **BA** (when is this possible?)\n",
        "3. Does **AB**= **BA**? If not, how do we set so that **AB**= **BA**?\n"
      ]
    },
    {
      "cell_type": "code",
      "execution_count": 3,
      "metadata": {
        "colab": {
          "base_uri": "https://localhost:8080/",
          "height": 185
        },
        "id": "Rx5ATupFzGSy",
        "outputId": "3e9a7cb2-5a33-4be1-d227-6850c3caaa82"
      },
      "outputs": [
        {
          "name": "stdout",
          "output_type": "stream",
          "text": [
            "c = a.b : c =  [[ 4 10 18]\n",
            " [28 40 54]]\n",
            "A*B =  [[ 4 10 18]\n",
            " [28 40 54]]\n",
            "B*A =  [[ 4 10 18]\n",
            " [28 40 54]]\n",
            "[[ True  True  True]\n",
            " [ True  True  True]]\n"
          ]
        }
      ],
      "source": [
        "a = np.array([[1,2,3], [4,5,6]])\n",
        "b = np.array([[4,5,6],[7,8,9]])\n",
        "\n",
        "print(\"c = a.b : c = \", a*b)\n",
        "\n",
        "# Matrix multiplication\n",
        "\n",
        "AB = a*b\n",
        "BA = b*a\n",
        "\n",
        "print(\"A*B = \", AB)\n",
        "print(\"B*A = \", BA)\n",
        "print(AB == BA)"
      ]
    },
    {
      "attachments": {},
      "cell_type": "markdown",
      "metadata": {
        "id": "9bTscTVyhYqu"
      },
      "source": [
        "# Random seed\n",
        "\n",
        "For reproducibility. Pseudo random generators are not actually random, but deterministic in a sense. "
      ]
    },
    {
      "cell_type": "code",
      "execution_count": 4,
      "metadata": {
        "colab": {
          "base_uri": "https://localhost:8080/"
        },
        "id": "PGzFm_nChdbV",
        "outputId": "9b6cb484-88a7-4239-957e-a56ae4e63f28"
      },
      "outputs": [
        {
          "name": "stdout",
          "output_type": "stream",
          "text": [
            "0.6229016948897019\n",
            "--------\n",
            "0.8444218515250481\n",
            "0.13436424411240122\n",
            "0.9560342718892494\n",
            "0.23796462709189137\n",
            "0.23604808973743452\n",
            "0.6229016948897019\n",
            "0.793340083761663\n",
            "0.32383276483316237\n",
            "0.2267058593810488\n",
            "0.46300735781502145\n",
            "0.5714025946899135\n"
          ]
        }
      ],
      "source": [
        "import random\n",
        "\n",
        "random.seed(5)\n",
        "print(random.random())\n",
        "\n",
        "print(\"--------\")\n",
        "for i in range(11):\n",
        "    random.seed(i)\n",
        "    print(random.random())"
      ]
    },
    {
      "attachments": {},
      "cell_type": "markdown",
      "metadata": {
        "id": "u4GhkKdQAaRO"
      },
      "source": [
        "# Torch exercise \n",
        "-To change the shape of an array in torch/tensor, use view and re assign the variable. view() is like np.reshape() \n"
      ]
    },
    {
      "cell_type": "code",
      "execution_count": 5,
      "metadata": {
        "colab": {
          "base_uri": "https://localhost:8080/"
        },
        "id": "Hm1xjPDqAle0",
        "outputId": "5d98f1ca-cdb5-41e3-80f5-e7dd60fcbcd9"
      },
      "outputs": [
        {
          "name": "stdout",
          "output_type": "stream",
          "text": [
            "\n",
            "---A 4x4 tensor----\n",
            "\n",
            "tensor([[0.2782, 0.9502, 0.2412, 0.5095],\n",
            "        [0.3850, 0.5824, 0.7950, 0.7165],\n",
            "        [0.1554, 0.6570, 0.5937, 0.0567],\n",
            "        [0.4868, 0.8219, 0.6809, 0.3627]])\n",
            "\n",
            "---Reshaped tensor to 8x2----\n",
            "\n",
            "tensor([[0.2782, 0.9502],\n",
            "        [0.2412, 0.5095],\n",
            "        [0.3850, 0.5824],\n",
            "        [0.7950, 0.7165],\n",
            "        [0.1554, 0.6570],\n",
            "        [0.5937, 0.0567],\n",
            "        [0.4868, 0.8219],\n",
            "        [0.6809, 0.3627]])\n",
            "\n",
            "---Flattens the tensor into a vector----\n",
            "\n",
            "tensor([0.2782, 0.9502, 0.2412, 0.5095, 0.3850, 0.5824, 0.7950, 0.7165, 0.1554,\n",
            "        0.6570, 0.5937, 0.0567, 0.4868, 0.8219, 0.6809, 0.3627])\n"
          ]
        }
      ],
      "source": [
        "import torch\n",
        "\n",
        "print(\"\\n---A 4x4 tensor----\\n\")\n",
        "a = torch.rand(4,4)\n",
        "print(a)\n",
        "\n",
        "print(\"\\n---Reshaped tensor to 8x2----\\n\")\n",
        "a = a.view(8,2)\n",
        "print(a)\n",
        "\n",
        "print(\"\\n---Flattens the tensor into a vector----\\n\")\n",
        "a = a.view(-1)\n",
        "print(a)"
      ]
    },
    {
      "cell_type": "code",
      "execution_count": 7,
      "metadata": {
        "colab": {
          "base_uri": "https://localhost:8080/"
        },
        "id": "YQ26TA7kTp0w",
        "outputId": "6f10c065-27e6-4fcc-d7b2-e76c7b23c136"
      },
      "outputs": [
        {
          "name": "stdout",
          "output_type": "stream",
          "text": [
            "[[-1 -1]\n",
            " [-1  1]\n",
            " [ 1  1]\n",
            " [ 1 -1]]\n"
          ]
        }
      ],
      "source": [
        "\n",
        "import numpy as np\n",
        "\n",
        "X = np.array([[-1, -1], [-1, 1], [1, 1], [1, -1]])\n",
        "print(X)"
      ]
    }
  ],
  "metadata": {
    "colab": {
      "authorship_tag": "ABX9TyPefH4xZPvJvvHq2fpXybJ8",
      "provenance": []
    },
    "kernelspec": {
      "display_name": "Python 3",
      "name": "python3"
    },
    "language_info": {
      "codemirror_mode": {
        "name": "ipython",
        "version": 3
      },
      "file_extension": ".py",
      "mimetype": "text/x-python",
      "name": "python",
      "nbconvert_exporter": "python",
      "pygments_lexer": "ipython3",
      "version": "3.9.15"
    }
  },
  "nbformat": 4,
  "nbformat_minor": 0
}
