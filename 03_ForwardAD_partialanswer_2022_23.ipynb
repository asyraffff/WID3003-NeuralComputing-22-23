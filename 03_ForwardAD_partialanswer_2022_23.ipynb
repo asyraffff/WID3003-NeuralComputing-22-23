{
  "cells": [
    {
      "attachments": {},
      "cell_type": "markdown",
      "metadata": {
        "id": "gci0J-nmsMW4"
      },
      "source": [
        "# Demo of the problem in the slides\n",
        "\n",
        "But here we have to track two variables for each of the value and the derivative."
      ]
    },
    {
      "cell_type": "code",
      "execution_count": null,
      "metadata": {
        "colab": {
          "base_uri": "https://localhost:8080/"
        },
        "id": "uHAfoB0jsLmi",
        "outputId": "768359d5-c1c3-4541-adf4-92b437e23efb"
      },
      "outputs": [
        {
          "name": "stdout",
          "output_type": "stream",
          "text": [
            "z =  2.579425538604203\n",
            "dz/dy =  5.077582561890373\n"
          ]
        }
      ],
      "source": [
        "import math \n",
        "\n",
        "x = 0.5\n",
        "y = 4.2\n",
        "b =  math.sin(x)\n",
        "a = x*y\n",
        "z = a + b\n",
        "\n",
        "\n",
        "dx = 1\n",
        "dy = 0\n",
        "da = x*dy + y*dx #product rule\n",
        "db = math.cos(x)*dx #chain rule\n",
        "dz = da + db #sum rule\n",
        "\n",
        "print('z = ',z)\n",
        "print('dz/dy = ',dz)\n",
        "\n",
        "\n"
      ]
    },
    {
      "cell_type": "markdown",
      "metadata": {
        "id": "PuyazVrdhVtM"
      },
      "source": [
        "# Forward Mode Automatic Differentiation (AD)\n",
        "\n",
        "Forward mode AD can simply be implemented by defining a class to represent [dual numbers](https://en.wikipedia.org/wiki/Dual_number) which hold the value and its derivative. The following code defines a dual number and implements multiplication. \n",
        "\n",
        "Tasks:\n",
        "\n",
        "1. Addition (`__add__`) is incomplete - Please complete it \n",
        "2. Implement division (`__truediv__`), subtraction (`__sub__`) and power (`__pow__`) as well"
      ]
    },
    {
      "cell_type": "code",
      "execution_count": null,
      "metadata": {
        "id": "_ACPZb-NhER1"
      },
      "outputs": [],
      "source": [
        "import math \n",
        "\n",
        "class DualNumber:\n",
        "  def __init__(self,value,dvalue): #x (self value, derivative of self value)\n",
        "    self.value = value\n",
        "    self.dvalue = dvalue #derivative\n",
        "\n",
        "  def __str__(self):\n",
        "    return str(self.value) + \" + \" + str(self.dvalue) + \"ε\"\n",
        "\n",
        "  def __mul__(self,other): #multiplication x*y, udv+vdu\n",
        "    return DualNumber(self.value*other.value, self.value*other.dvalue+other.value*self.dvalue)\n",
        "\n",
        "  #addition\n",
        "  def __add__(self,other): #multiplication x+y, du+dx\n",
        "    return DualNumber(self.value+other.value, self.dvalue+other.dvalue)\n",
        "\n",
        "  #power (This implementation is not perfect! Can you guess what are its limitations?)\n",
        "  def __pow__(self,other): #x^y, d/dx = yx^(y-1)  d/dy= x^yln(x)depends on which variable are you differentiating. \n",
        "    a,b = 1, 1\n",
        "    for i in range(other.value-1): # to avoid using the same pow function\n",
        "      a*=self.value\n",
        "      b*=self.value\n",
        "    b*=self.value\n",
        "\n",
        "    return DualNumber(self.value**other.value,(other.value*a*self.dvalue) +(b*math.log(self.value)*other.dvalue))\n"
      ]
    },
    {
      "cell_type": "markdown",
      "metadata": {
        "id": "5BxHyC-Ghi06"
      },
      "source": [
        "## Test your dual number functions "
      ]
    },
    {
      "cell_type": "code",
      "execution_count": null,
      "metadata": {
        "colab": {
          "base_uri": "https://localhost:8080/"
        },
        "id": "p3GjfEzHhna5",
        "outputId": "6dd68cee-25f2-43bb-a100-fcbc7c33f8ac"
      },
      "outputs": [
        {
          "name": "stdout",
          "output_type": "stream",
          "text": [
            "x  1 + 0.5ε\n",
            "y  2 + 0.7ε\n",
            "z  2 + 1.7ε\n",
            "result is : 1.0 + 0.0ε\n"
          ]
        }
      ],
      "source": [
        "x = DualNumber(1,0.5)\n",
        "y = DualNumber(2,0.7) \n",
        "z = x*y\n",
        "print('x ',x)\n",
        "print('y ',y)\n",
        "print('z ',z)\n",
        "\n",
        "# Tests (Once your operations are defined properly, then this will be ok)\n",
        "result = DualNumber(1,0) + DualNumber(1,0) / DualNumber(1,0) - DualNumber(1,0)**DualNumber(1,0)\n",
        "print('result is :',result)\n",
        "\n"
      ]
    },
    {
      "cell_type": "markdown",
      "metadata": {
        "id": "0Txtit_s101O"
      },
      "source": [
        "#Implementing other math functions\n",
        "\n",
        "We also need to implement some core math functions. What is the sine fuction for a dual number ?"
      ]
    },
    {
      "cell_type": "code",
      "execution_count": null,
      "metadata": {
        "colab": {
          "base_uri": "https://localhost:8080/",
          "height": 35
        },
        "id": "27ExiePH2ANe",
        "outputId": "83ed534e-2ed6-41d4-9fc8-f27ee23cb9eb"
      },
      "outputs": [
        {
          "data": {
            "application/vnd.google.colaboratory.intrinsic+json": {
              "type": "string"
            },
            "text/plain": [
              "'\\n#Task: implement the cosine, tangent and exponential functions below\\ndef cos(x):\\n\\ndef tan(x):\\n\\ndef exp(x):\\n\\n'"
            ]
          },
          "execution_count": 24,
          "metadata": {},
          "output_type": "execute_result"
        }
      ],
      "source": [
        "def sin(x):\n",
        "  return DualNumber(math.sin(x.value), math.cos(x.value)*x.dvalue)\n",
        "\n",
        "'''\n",
        "#Task: implement the cosine, tangent and exponential functions below\n",
        "def cos(x):\n",
        "\n",
        "def tan(x):\n",
        "\n",
        "def exp(x):\n",
        "\n",
        "'''"
      ]
    },
    {
      "cell_type": "markdown",
      "metadata": {
        "id": "eD2x6aJ14cwm"
      },
      "source": [
        "#Putting it all together\n",
        "\n",
        "1. Write a code to compute the value of the function $z=x\\cdot y+sin(x)$ given $x=0.5$ and $y=4.2$, together with the derivative $\\partial z/\\partial x$ at that point. "
      ]
    },
    {
      "cell_type": "code",
      "execution_count": null,
      "metadata": {
        "id": "R3whQgK14lwX"
      },
      "outputs": [],
      "source": [
        "#if you solve the above equation manually, you should get dz/dx=y+cos(x) and dz/dy=x\n",
        "\n",
        "#To get the derivatives d/dx, set d/dx=1 and d/dy=0\n",
        "#To get d/dy, do the opposite\n",
        "#what is z? what is dz/dx? what is dz/dy?\n",
        "\n",
        "#dz/dy = \n",
        "#dz/dx = \n"
      ]
    },
    {
      "cell_type": "markdown",
      "metadata": {
        "id": "7__R_A9Q4mGE"
      },
      "source": [
        "Differentiate the above function with respect to  x  and write the symbolic derivatives. Verify the result computed above is correct by plugging-in the values into your symbolic gradient expression.\n",
        "\n",
        "Compute the derivative  ∂z/∂y  of the above expression (at the same point  x=0.5,y=4.2  as above). Verify by hand that the result is correct.\n",
        "\n",
        "Experiment with other math functions and methods you created"
      ]
    }
  ],
  "metadata": {
    "colab": {
      "authorship_tag": "ABX9TyNBrcs9TfXnY8NtnHWcoKxr",
      "provenance": []
    },
    "kernelspec": {
      "display_name": "Python 3",
      "name": "python3"
    },
    "language_info": {
      "name": "python",
      "version": "3.9.15"
    }
  },
  "nbformat": 4,
  "nbformat_minor": 0
}
